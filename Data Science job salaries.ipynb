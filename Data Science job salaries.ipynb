{
 "cells": [
  {
   "cell_type": "code",
   "execution_count": 1,
   "metadata": {
    "execution": {
     "iopub.execute_input": "2022-10-26T11:09:54.513465Z",
     "iopub.status.busy": "2022-10-26T11:09:54.513189Z",
     "iopub.status.idle": "2022-10-26T11:09:55.036959Z",
     "shell.execute_reply": "2022-10-26T11:09:55.035480Z",
     "shell.execute_reply.started": "2022-10-26T11:09:54.513402Z"
    },
    "papermill": {
     "duration": 1.204969,
     "end_time": "2022-10-17T02:21:49.98921",
     "exception": false,
     "start_time": "2022-10-17T02:21:48.784241",
     "status": "completed"
    },
    "tags": []
   },
   "outputs": [],
   "source": [
    "# import requried libraries\n",
    "import pandas as pd\n",
    "import numpy as np\n",
    "import matplotlib.pyplot as plt\n",
    "import seaborn as sns"
   ]
  },
  {
   "cell_type": "code",
   "execution_count": 2,
   "metadata": {
    "execution": {
     "iopub.execute_input": "2022-10-26T11:09:55.038881Z",
     "iopub.status.busy": "2022-10-26T11:09:55.038550Z",
     "iopub.status.idle": "2022-10-26T11:09:55.067401Z",
     "shell.execute_reply": "2022-10-26T11:09:55.065729Z",
     "shell.execute_reply.started": "2022-10-26T11:09:55.038855Z"
    },
    "papermill": {
     "duration": 0.06475,
     "end_time": "2022-10-17T02:21:50.06931",
     "exception": false,
     "start_time": "2022-10-17T02:21:50.00456",
     "status": "completed"
    },
    "tags": []
   },
   "outputs": [
    {
     "data": {
      "text/html": [
       "<div>\n",
       "<style scoped>\n",
       "    .dataframe tbody tr th:only-of-type {\n",
       "        vertical-align: middle;\n",
       "    }\n",
       "\n",
       "    .dataframe tbody tr th {\n",
       "        vertical-align: top;\n",
       "    }\n",
       "\n",
       "    .dataframe thead th {\n",
       "        text-align: right;\n",
       "    }\n",
       "</style>\n",
       "<table border=\"1\" class=\"dataframe\">\n",
       "  <thead>\n",
       "    <tr style=\"text-align: right;\">\n",
       "      <th></th>\n",
       "      <th>Unnamed: 0</th>\n",
       "      <th>work_year</th>\n",
       "      <th>experience_level</th>\n",
       "      <th>employment_type</th>\n",
       "      <th>job_title</th>\n",
       "      <th>salary</th>\n",
       "      <th>salary_currency</th>\n",
       "      <th>salary_in_usd</th>\n",
       "      <th>employee_residence</th>\n",
       "      <th>remote_ratio</th>\n",
       "      <th>company_location</th>\n",
       "      <th>company_size</th>\n",
       "    </tr>\n",
       "  </thead>\n",
       "  <tbody>\n",
       "    <tr>\n",
       "      <th>0</th>\n",
       "      <td>0</td>\n",
       "      <td>2020</td>\n",
       "      <td>MI</td>\n",
       "      <td>FT</td>\n",
       "      <td>Data Scientist</td>\n",
       "      <td>70000</td>\n",
       "      <td>EUR</td>\n",
       "      <td>79833</td>\n",
       "      <td>DE</td>\n",
       "      <td>0</td>\n",
       "      <td>DE</td>\n",
       "      <td>L</td>\n",
       "    </tr>\n",
       "    <tr>\n",
       "      <th>1</th>\n",
       "      <td>1</td>\n",
       "      <td>2020</td>\n",
       "      <td>SE</td>\n",
       "      <td>FT</td>\n",
       "      <td>Machine Learning Scientist</td>\n",
       "      <td>260000</td>\n",
       "      <td>USD</td>\n",
       "      <td>260000</td>\n",
       "      <td>JP</td>\n",
       "      <td>0</td>\n",
       "      <td>JP</td>\n",
       "      <td>S</td>\n",
       "    </tr>\n",
       "    <tr>\n",
       "      <th>2</th>\n",
       "      <td>2</td>\n",
       "      <td>2020</td>\n",
       "      <td>SE</td>\n",
       "      <td>FT</td>\n",
       "      <td>Big Data Engineer</td>\n",
       "      <td>85000</td>\n",
       "      <td>GBP</td>\n",
       "      <td>109024</td>\n",
       "      <td>GB</td>\n",
       "      <td>50</td>\n",
       "      <td>GB</td>\n",
       "      <td>M</td>\n",
       "    </tr>\n",
       "    <tr>\n",
       "      <th>3</th>\n",
       "      <td>3</td>\n",
       "      <td>2020</td>\n",
       "      <td>MI</td>\n",
       "      <td>FT</td>\n",
       "      <td>Product Data Analyst</td>\n",
       "      <td>20000</td>\n",
       "      <td>USD</td>\n",
       "      <td>20000</td>\n",
       "      <td>HN</td>\n",
       "      <td>0</td>\n",
       "      <td>HN</td>\n",
       "      <td>S</td>\n",
       "    </tr>\n",
       "    <tr>\n",
       "      <th>4</th>\n",
       "      <td>4</td>\n",
       "      <td>2020</td>\n",
       "      <td>SE</td>\n",
       "      <td>FT</td>\n",
       "      <td>Machine Learning Engineer</td>\n",
       "      <td>150000</td>\n",
       "      <td>USD</td>\n",
       "      <td>150000</td>\n",
       "      <td>US</td>\n",
       "      <td>50</td>\n",
       "      <td>US</td>\n",
       "      <td>L</td>\n",
       "    </tr>\n",
       "  </tbody>\n",
       "</table>\n",
       "</div>"
      ],
      "text/plain": [
       "   Unnamed: 0  work_year experience_level employment_type  \\\n",
       "0           0       2020               MI              FT   \n",
       "1           1       2020               SE              FT   \n",
       "2           2       2020               SE              FT   \n",
       "3           3       2020               MI              FT   \n",
       "4           4       2020               SE              FT   \n",
       "\n",
       "                    job_title  salary salary_currency  salary_in_usd  \\\n",
       "0              Data Scientist   70000             EUR          79833   \n",
       "1  Machine Learning Scientist  260000             USD         260000   \n",
       "2           Big Data Engineer   85000             GBP         109024   \n",
       "3        Product Data Analyst   20000             USD          20000   \n",
       "4   Machine Learning Engineer  150000             USD         150000   \n",
       "\n",
       "  employee_residence  remote_ratio company_location company_size  \n",
       "0                 DE             0               DE            L  \n",
       "1                 JP             0               JP            S  \n",
       "2                 GB            50               GB            M  \n",
       "3                 HN             0               HN            S  \n",
       "4                 US            50               US            L  "
      ]
     },
     "execution_count": 2,
     "metadata": {},
     "output_type": "execute_result"
    }
   ],
   "source": [
    "# get the dataset\n",
    "df = pd.read_csv('../input/data-science-job-salaries/ds_salaries.csv')\n",
    "df.head()"
   ]
  },
  {
   "cell_type": "code",
   "execution_count": 3,
   "metadata": {
    "execution": {
     "iopub.execute_input": "2022-10-26T11:09:55.070144Z",
     "iopub.status.busy": "2022-10-26T11:09:55.069671Z",
     "iopub.status.idle": "2022-10-26T11:09:55.078072Z",
     "shell.execute_reply": "2022-10-26T11:09:55.076339Z",
     "shell.execute_reply.started": "2022-10-26T11:09:55.070106Z"
    },
    "papermill": {
     "duration": 0.030539,
     "end_time": "2022-10-17T02:21:50.146059",
     "exception": false,
     "start_time": "2022-10-17T02:21:50.11552",
     "status": "completed"
    },
    "tags": []
   },
   "outputs": [],
   "source": [
    "# remove the 'Unnamed: 0 ' column\n",
    "df.drop('Unnamed: 0', axis=1, inplace=True)"
   ]
  },
  {
   "cell_type": "code",
   "execution_count": 4,
   "metadata": {
    "execution": {
     "iopub.execute_input": "2022-10-26T11:09:55.082050Z",
     "iopub.status.busy": "2022-10-26T11:09:55.081540Z",
     "iopub.status.idle": "2022-10-26T11:09:55.099076Z",
     "shell.execute_reply": "2022-10-26T11:09:55.097927Z",
     "shell.execute_reply.started": "2022-10-26T11:09:55.082024Z"
    },
    "papermill": {
     "duration": 0.026723,
     "end_time": "2022-10-17T02:21:50.187905",
     "exception": false,
     "start_time": "2022-10-17T02:21:50.161182",
     "status": "completed"
    },
    "tags": []
   },
   "outputs": [
    {
     "data": {
      "text/plain": [
       "(607, 11)"
      ]
     },
     "execution_count": 4,
     "metadata": {},
     "output_type": "execute_result"
    }
   ],
   "source": [
    "# shape\n",
    "df.shape"
   ]
  },
  {
   "cell_type": "code",
   "execution_count": 5,
   "metadata": {
    "execution": {
     "iopub.execute_input": "2022-10-26T11:09:55.100633Z",
     "iopub.status.busy": "2022-10-26T11:09:55.100291Z",
     "iopub.status.idle": "2022-10-26T11:09:55.113095Z",
     "shell.execute_reply": "2022-10-26T11:09:55.112133Z",
     "shell.execute_reply.started": "2022-10-26T11:09:55.100605Z"
    },
    "papermill": {
     "duration": 0.027755,
     "end_time": "2022-10-17T02:21:50.291671",
     "exception": false,
     "start_time": "2022-10-17T02:21:50.263916",
     "status": "completed"
    },
    "tags": []
   },
   "outputs": [
    {
     "data": {
      "text/plain": [
       "work_year              int64\n",
       "experience_level      object\n",
       "employment_type       object\n",
       "job_title             object\n",
       "salary                 int64\n",
       "salary_currency       object\n",
       "salary_in_usd          int64\n",
       "employee_residence    object\n",
       "remote_ratio           int64\n",
       "company_location      object\n",
       "company_size          object\n",
       "dtype: object"
      ]
     },
     "execution_count": 5,
     "metadata": {},
     "output_type": "execute_result"
    }
   ],
   "source": [
    "# columns and data types\n",
    "df.dtypes"
   ]
  },
  {
   "cell_type": "markdown",
   "metadata": {
    "papermill": {
     "duration": 0.014942,
     "end_time": "2022-10-17T02:21:50.322303",
     "exception": false,
     "start_time": "2022-10-17T02:21:50.307361",
     "status": "completed"
    },
    "tags": []
   },
   "source": [
    "---"
   ]
  },
  {
   "cell_type": "code",
   "execution_count": 6,
   "metadata": {
    "execution": {
     "iopub.execute_input": "2022-10-26T11:09:55.114529Z",
     "iopub.status.busy": "2022-10-26T11:09:55.114285Z",
     "iopub.status.idle": "2022-10-26T11:09:55.135352Z",
     "shell.execute_reply": "2022-10-26T11:09:55.133591Z",
     "shell.execute_reply.started": "2022-10-26T11:09:55.114505Z"
    }
   },
   "outputs": [
    {
     "data": {
      "text/plain": [
       "42"
      ]
     },
     "execution_count": 6,
     "metadata": {},
     "output_type": "execute_result"
    }
   ],
   "source": [
    "# detect duplications\n",
    "df.duplicated().sum()"
   ]
  },
  {
   "cell_type": "code",
   "execution_count": 7,
   "metadata": {
    "execution": {
     "iopub.execute_input": "2022-10-26T11:09:55.137776Z",
     "iopub.status.busy": "2022-10-26T11:09:55.137239Z",
     "iopub.status.idle": "2022-10-26T11:09:55.147082Z",
     "shell.execute_reply": "2022-10-26T11:09:55.145923Z",
     "shell.execute_reply.started": "2022-10-26T11:09:55.137748Z"
    }
   },
   "outputs": [],
   "source": [
    "# drop duplications\n",
    "df.drop_duplicates(inplace=True)"
   ]
  },
  {
   "cell_type": "code",
   "execution_count": 8,
   "metadata": {
    "execution": {
     "iopub.execute_input": "2022-10-26T11:09:55.150322Z",
     "iopub.status.busy": "2022-10-26T11:09:55.148492Z",
     "iopub.status.idle": "2022-10-26T11:09:56.042669Z",
     "shell.execute_reply": "2022-10-26T11:09:56.041567Z",
     "shell.execute_reply.started": "2022-10-26T11:09:55.150257Z"
    }
   },
   "outputs": [],
   "source": [
    "# change country names from ISO2 to original names\n",
    "# There are two features containing country names, \"company_location\" and \"employee_residence\"\n",
    "\n",
    "import country_converter\n",
    "cc = country_converter.CountryConverter()\n",
    "df['company_location'] = cc.convert(df['company_location'], to='name_short')\n",
    "df['employee_residence'] = cc.convert(df['employee_residence'], to='name_short')"
   ]
  },
  {
   "cell_type": "code",
   "execution_count": 9,
   "metadata": {
    "execution": {
     "iopub.execute_input": "2022-10-26T11:09:56.044186Z",
     "iopub.status.busy": "2022-10-26T11:09:56.043927Z",
     "iopub.status.idle": "2022-10-26T11:09:56.055232Z",
     "shell.execute_reply": "2022-10-26T11:09:56.054491Z",
     "shell.execute_reply.started": "2022-10-26T11:09:56.044163Z"
    },
    "papermill": {
     "duration": 0.031819,
     "end_time": "2022-10-17T02:21:50.399209",
     "exception": false,
     "start_time": "2022-10-17T02:21:50.36739",
     "status": "completed"
    },
    "tags": []
   },
   "outputs": [
    {
     "data": {
      "text/plain": [
       "SE    243\n",
       "MI    208\n",
       "EN     88\n",
       "EX     26\n",
       "Name: experience_level, dtype: int64"
      ]
     },
     "execution_count": 9,
     "metadata": {},
     "output_type": "execute_result"
    }
   ],
   "source": [
    "# experience level\n",
    "df['experience_level'].value_counts()"
   ]
  },
  {
   "cell_type": "code",
   "execution_count": 10,
   "metadata": {
    "execution": {
     "iopub.execute_input": "2022-10-26T11:09:56.056703Z",
     "iopub.status.busy": "2022-10-26T11:09:56.056337Z",
     "iopub.status.idle": "2022-10-26T11:09:56.070824Z",
     "shell.execute_reply": "2022-10-26T11:09:56.068860Z",
     "shell.execute_reply.started": "2022-10-26T11:09:56.056663Z"
    },
    "papermill": {
     "duration": 0.029,
     "end_time": "2022-10-17T02:21:50.443779",
     "exception": false,
     "start_time": "2022-10-17T02:21:50.414779",
     "status": "completed"
    },
    "tags": []
   },
   "outputs": [],
   "source": [
    "df['experience_level'] = df['experience_level'].map({\n",
    "    'SE': 'Senior',\n",
    "    'MI': 'Mid',\n",
    "    'EN': 'Entry',\n",
    "    'EX': 'Executive'\n",
    "})"
   ]
  },
  {
   "cell_type": "code",
   "execution_count": 11,
   "metadata": {
    "execution": {
     "iopub.execute_input": "2022-10-26T11:09:56.072412Z",
     "iopub.status.busy": "2022-10-26T11:09:56.072119Z",
     "iopub.status.idle": "2022-10-26T11:09:56.089834Z",
     "shell.execute_reply": "2022-10-26T11:09:56.088394Z",
     "shell.execute_reply.started": "2022-10-26T11:09:56.072386Z"
    },
    "papermill": {
     "duration": 0.028203,
     "end_time": "2022-10-17T02:21:50.487297",
     "exception": false,
     "start_time": "2022-10-17T02:21:50.459094",
     "status": "completed"
    },
    "tags": []
   },
   "outputs": [
    {
     "data": {
      "text/plain": [
       "FT    546\n",
       "PT     10\n",
       "CT      5\n",
       "FL      4\n",
       "Name: employment_type, dtype: int64"
      ]
     },
     "execution_count": 11,
     "metadata": {},
     "output_type": "execute_result"
    }
   ],
   "source": [
    "# employment type\n",
    "df['employment_type'].value_counts()"
   ]
  },
  {
   "cell_type": "code",
   "execution_count": 12,
   "metadata": {
    "execution": {
     "iopub.execute_input": "2022-10-26T11:09:56.091760Z",
     "iopub.status.busy": "2022-10-26T11:09:56.091404Z",
     "iopub.status.idle": "2022-10-26T11:09:56.112018Z",
     "shell.execute_reply": "2022-10-26T11:09:56.110826Z",
     "shell.execute_reply.started": "2022-10-26T11:09:56.091736Z"
    },
    "papermill": {
     "duration": 0.025648,
     "end_time": "2022-10-17T02:21:50.528627",
     "exception": false,
     "start_time": "2022-10-17T02:21:50.502979",
     "status": "completed"
    },
    "tags": []
   },
   "outputs": [],
   "source": [
    "df['employment_type'] = df['employment_type'].map({\n",
    "    'FT': 'Full-time',\n",
    "    'PT': 'Part-time',\n",
    "    'CT': 'Contract',\n",
    "    'FL': 'Freelance'\n",
    "})"
   ]
  },
  {
   "cell_type": "code",
   "execution_count": 13,
   "metadata": {
    "execution": {
     "iopub.execute_input": "2022-10-26T11:09:56.116645Z",
     "iopub.status.busy": "2022-10-26T11:09:56.116302Z",
     "iopub.status.idle": "2022-10-26T11:09:56.136639Z",
     "shell.execute_reply": "2022-10-26T11:09:56.135002Z",
     "shell.execute_reply.started": "2022-10-26T11:09:56.116617Z"
    },
    "papermill": {
     "duration": 0.029463,
     "end_time": "2022-10-17T02:21:50.574104",
     "exception": false,
     "start_time": "2022-10-17T02:21:50.544641",
     "status": "completed"
    },
    "tags": []
   },
   "outputs": [
    {
     "data": {
      "text/plain": [
       "M    290\n",
       "L    193\n",
       "S     82\n",
       "Name: company_size, dtype: int64"
      ]
     },
     "execution_count": 13,
     "metadata": {},
     "output_type": "execute_result"
    }
   ],
   "source": [
    "# company size\n",
    "df['company_size'].value_counts()"
   ]
  },
  {
   "cell_type": "code",
   "execution_count": 14,
   "metadata": {
    "execution": {
     "iopub.execute_input": "2022-10-26T11:09:56.139517Z",
     "iopub.status.busy": "2022-10-26T11:09:56.139171Z",
     "iopub.status.idle": "2022-10-26T11:09:56.150034Z",
     "shell.execute_reply": "2022-10-26T11:09:56.149330Z",
     "shell.execute_reply.started": "2022-10-26T11:09:56.139492Z"
    },
    "papermill": {
     "duration": 0.028216,
     "end_time": "2022-10-17T02:21:50.61825",
     "exception": false,
     "start_time": "2022-10-17T02:21:50.590034",
     "status": "completed"
    },
    "tags": []
   },
   "outputs": [],
   "source": [
    "df['company_size'] = df['company_size'].map({\n",
    "    'S': 'Small',\n",
    "    'M': 'Medium',\n",
    "    'L': 'Large'\n",
    "})"
   ]
  },
  {
   "cell_type": "markdown",
   "metadata": {
    "papermill": {
     "duration": 0.015845,
     "end_time": "2022-10-17T02:21:50.650495",
     "exception": false,
     "start_time": "2022-10-17T02:21:50.63465",
     "status": "completed"
    },
    "tags": []
   },
   "source": [
    "---"
   ]
  },
  {
   "cell_type": "code",
   "execution_count": 15,
   "metadata": {
    "execution": {
     "iopub.execute_input": "2022-10-26T11:09:56.152478Z",
     "iopub.status.busy": "2022-10-26T11:09:56.151270Z",
     "iopub.status.idle": "2022-10-26T11:09:56.172218Z",
     "shell.execute_reply": "2022-10-26T11:09:56.169984Z",
     "shell.execute_reply.started": "2022-10-26T11:09:56.152443Z"
    },
    "papermill": {
     "duration": 0.027535,
     "end_time": "2022-10-17T02:21:50.694112",
     "exception": false,
     "start_time": "2022-10-17T02:21:50.666577",
     "status": "completed"
    },
    "tags": []
   },
   "outputs": [],
   "source": [
    "# drop salary and salary_currency features (salary_in_usd is enough to keep on)\n",
    "df.drop(['salary', 'salary_currency'], axis=1, inplace=True)\n",
    "\n",
    "# rename salary_in_usd to salary\n",
    "df.rename(columns={'salary_in_usd': 'salary'}, inplace=True)"
   ]
  },
  {
   "cell_type": "code",
   "execution_count": 16,
   "metadata": {
    "execution": {
     "iopub.execute_input": "2022-10-26T11:09:56.174154Z",
     "iopub.status.busy": "2022-10-26T11:09:56.173825Z",
     "iopub.status.idle": "2022-10-26T11:09:56.188310Z",
     "shell.execute_reply": "2022-10-26T11:09:56.186618Z",
     "shell.execute_reply.started": "2022-10-26T11:09:56.174113Z"
    },
    "papermill": {
     "duration": 0.029815,
     "end_time": "2022-10-17T02:21:50.739741",
     "exception": false,
     "start_time": "2022-10-17T02:21:50.709926",
     "status": "completed"
    },
    "tags": []
   },
   "outputs": [
    {
     "data": {
      "text/plain": [
       "2022    278\n",
       "2021    215\n",
       "2020     72\n",
       "Name: work_year, dtype: int64"
      ]
     },
     "execution_count": 16,
     "metadata": {},
     "output_type": "execute_result"
    }
   ],
   "source": [
    "df['work_year'].value_counts()"
   ]
  },
  {
   "cell_type": "markdown",
   "metadata": {
    "papermill": {
     "duration": 0.016207,
     "end_time": "2022-10-17T02:21:50.772431",
     "exception": false,
     "start_time": "2022-10-17T02:21:50.756224",
     "status": "completed"
    },
    "tags": []
   },
   "source": [
    "---"
   ]
  },
  {
   "cell_type": "code",
   "execution_count": 17,
   "metadata": {
    "execution": {
     "iopub.execute_input": "2022-10-26T11:09:56.189612Z",
     "iopub.status.busy": "2022-10-26T11:09:56.189290Z",
     "iopub.status.idle": "2022-10-26T11:09:56.209196Z",
     "shell.execute_reply": "2022-10-26T11:09:56.206955Z",
     "shell.execute_reply.started": "2022-10-26T11:09:56.189573Z"
    },
    "papermill": {
     "duration": 0.02897,
     "end_time": "2022-10-17T02:21:50.84909",
     "exception": false,
     "start_time": "2022-10-17T02:21:50.82012",
     "status": "completed"
    },
    "tags": []
   },
   "outputs": [
    {
     "data": {
      "text/plain": [
       "100    346\n",
       "0      121\n",
       "50      98\n",
       "Name: remote_ratio, dtype: int64"
      ]
     },
     "execution_count": 17,
     "metadata": {},
     "output_type": "execute_result"
    }
   ],
   "source": [
    "df['remote_ratio'].value_counts()"
   ]
  },
  {
   "cell_type": "code",
   "execution_count": 18,
   "metadata": {
    "execution": {
     "iopub.execute_input": "2022-10-26T11:09:56.211555Z",
     "iopub.status.busy": "2022-10-26T11:09:56.211253Z",
     "iopub.status.idle": "2022-10-26T11:09:56.221657Z",
     "shell.execute_reply": "2022-10-26T11:09:56.220431Z",
     "shell.execute_reply.started": "2022-10-26T11:09:56.211530Z"
    },
    "papermill": {
     "duration": 0.027894,
     "end_time": "2022-10-17T02:21:50.92483",
     "exception": false,
     "start_time": "2022-10-17T02:21:50.896936",
     "status": "completed"
    },
    "tags": []
   },
   "outputs": [],
   "source": [
    "# renmame remote_ratio to job_type\n",
    "df.rename(columns={'remote_ratio': 'job_type'}, inplace=True)\n",
    "\n",
    "# change 100 to remote, 0 to onsite, 50 to hybrid\n",
    "df['job_type'] = df['job_type'].map({\n",
    "    100: 'remote',\n",
    "    0: 'onsite',\n",
    "    50: 'hybrid',\n",
    "})"
   ]
  },
  {
   "cell_type": "code",
   "execution_count": 19,
   "metadata": {
    "execution": {
     "iopub.execute_input": "2022-10-26T11:09:56.223315Z",
     "iopub.status.busy": "2022-10-26T11:09:56.223060Z",
     "iopub.status.idle": "2022-10-26T11:09:56.240842Z",
     "shell.execute_reply": "2022-10-26T11:09:56.239961Z",
     "shell.execute_reply.started": "2022-10-26T11:09:56.223291Z"
    },
    "papermill": {
     "duration": 0.02882,
     "end_time": "2022-10-17T02:21:50.970395",
     "exception": false,
     "start_time": "2022-10-17T02:21:50.941575",
     "status": "completed"
    },
    "tags": []
   },
   "outputs": [
    {
     "data": {
      "text/plain": [
       "remote    346\n",
       "onsite    121\n",
       "hybrid     98\n",
       "Name: job_type, dtype: int64"
      ]
     },
     "execution_count": 19,
     "metadata": {},
     "output_type": "execute_result"
    }
   ],
   "source": [
    "df['job_type'].value_counts()"
   ]
  },
  {
   "cell_type": "code",
   "execution_count": 20,
   "metadata": {
    "execution": {
     "iopub.execute_input": "2022-10-26T11:09:56.241982Z",
     "iopub.status.busy": "2022-10-26T11:09:56.241760Z",
     "iopub.status.idle": "2022-10-26T11:09:56.257530Z",
     "shell.execute_reply": "2022-10-26T11:09:56.256378Z",
     "shell.execute_reply.started": "2022-10-26T11:09:56.241960Z"
    },
    "papermill": {
     "duration": 0.026008,
     "end_time": "2022-10-17T02:21:51.012399",
     "exception": false,
     "start_time": "2022-10-17T02:21:50.986391",
     "status": "completed"
    },
    "tags": []
   },
   "outputs": [
    {
     "data": {
      "text/plain": [
       "Index(['work_year', 'experience_level', 'employment_type', 'job_title',\n",
       "       'salary', 'employee_residence', 'job_type', 'company_location',\n",
       "       'company_size'],\n",
       "      dtype='object')"
      ]
     },
     "execution_count": 20,
     "metadata": {},
     "output_type": "execute_result"
    }
   ],
   "source": [
    "df.columns"
   ]
  },
  {
   "cell_type": "code",
   "execution_count": 21,
   "metadata": {
    "execution": {
     "iopub.execute_input": "2022-10-26T11:09:56.259435Z",
     "iopub.status.busy": "2022-10-26T11:09:56.258994Z",
     "iopub.status.idle": "2022-10-26T11:09:56.279665Z",
     "shell.execute_reply": "2022-10-26T11:09:56.278958Z",
     "shell.execute_reply.started": "2022-10-26T11:09:56.259409Z"
    },
    "papermill": {
     "duration": 0.034073,
     "end_time": "2022-10-17T02:21:51.062469",
     "exception": false,
     "start_time": "2022-10-17T02:21:51.028396",
     "status": "completed"
    },
    "tags": []
   },
   "outputs": [
    {
     "data": {
      "text/html": [
       "<div>\n",
       "<style scoped>\n",
       "    .dataframe tbody tr th:only-of-type {\n",
       "        vertical-align: middle;\n",
       "    }\n",
       "\n",
       "    .dataframe tbody tr th {\n",
       "        vertical-align: top;\n",
       "    }\n",
       "\n",
       "    .dataframe thead th {\n",
       "        text-align: right;\n",
       "    }\n",
       "</style>\n",
       "<table border=\"1\" class=\"dataframe\">\n",
       "  <thead>\n",
       "    <tr style=\"text-align: right;\">\n",
       "      <th></th>\n",
       "      <th>work_year</th>\n",
       "      <th>experience_level</th>\n",
       "      <th>employment_type</th>\n",
       "      <th>job_title</th>\n",
       "      <th>salary</th>\n",
       "      <th>employee_residence</th>\n",
       "      <th>job_type</th>\n",
       "      <th>company_location</th>\n",
       "      <th>company_size</th>\n",
       "    </tr>\n",
       "  </thead>\n",
       "  <tbody>\n",
       "    <tr>\n",
       "      <th>0</th>\n",
       "      <td>2020</td>\n",
       "      <td>Mid</td>\n",
       "      <td>Full-time</td>\n",
       "      <td>Data Scientist</td>\n",
       "      <td>79833</td>\n",
       "      <td>Germany</td>\n",
       "      <td>onsite</td>\n",
       "      <td>Germany</td>\n",
       "      <td>Large</td>\n",
       "    </tr>\n",
       "    <tr>\n",
       "      <th>1</th>\n",
       "      <td>2020</td>\n",
       "      <td>Senior</td>\n",
       "      <td>Full-time</td>\n",
       "      <td>Machine Learning Scientist</td>\n",
       "      <td>260000</td>\n",
       "      <td>Japan</td>\n",
       "      <td>onsite</td>\n",
       "      <td>Japan</td>\n",
       "      <td>Small</td>\n",
       "    </tr>\n",
       "    <tr>\n",
       "      <th>2</th>\n",
       "      <td>2020</td>\n",
       "      <td>Senior</td>\n",
       "      <td>Full-time</td>\n",
       "      <td>Big Data Engineer</td>\n",
       "      <td>109024</td>\n",
       "      <td>United Kingdom</td>\n",
       "      <td>hybrid</td>\n",
       "      <td>United Kingdom</td>\n",
       "      <td>Medium</td>\n",
       "    </tr>\n",
       "    <tr>\n",
       "      <th>3</th>\n",
       "      <td>2020</td>\n",
       "      <td>Mid</td>\n",
       "      <td>Full-time</td>\n",
       "      <td>Product Data Analyst</td>\n",
       "      <td>20000</td>\n",
       "      <td>Honduras</td>\n",
       "      <td>onsite</td>\n",
       "      <td>Honduras</td>\n",
       "      <td>Small</td>\n",
       "    </tr>\n",
       "    <tr>\n",
       "      <th>4</th>\n",
       "      <td>2020</td>\n",
       "      <td>Senior</td>\n",
       "      <td>Full-time</td>\n",
       "      <td>Machine Learning Engineer</td>\n",
       "      <td>150000</td>\n",
       "      <td>United States</td>\n",
       "      <td>hybrid</td>\n",
       "      <td>United States</td>\n",
       "      <td>Large</td>\n",
       "    </tr>\n",
       "  </tbody>\n",
       "</table>\n",
       "</div>"
      ],
      "text/plain": [
       "   work_year experience_level employment_type                   job_title  \\\n",
       "0       2020              Mid       Full-time              Data Scientist   \n",
       "1       2020           Senior       Full-time  Machine Learning Scientist   \n",
       "2       2020           Senior       Full-time           Big Data Engineer   \n",
       "3       2020              Mid       Full-time        Product Data Analyst   \n",
       "4       2020           Senior       Full-time   Machine Learning Engineer   \n",
       "\n",
       "   salary employee_residence job_type company_location company_size  \n",
       "0   79833            Germany   onsite          Germany        Large  \n",
       "1  260000              Japan   onsite            Japan        Small  \n",
       "2  109024     United Kingdom   hybrid   United Kingdom       Medium  \n",
       "3   20000           Honduras   onsite         Honduras        Small  \n",
       "4  150000      United States   hybrid    United States        Large  "
      ]
     },
     "execution_count": 21,
     "metadata": {},
     "output_type": "execute_result"
    }
   ],
   "source": [
    "df.head()"
   ]
  }
 ],
 "metadata": {
  "kernelspec": {
   "display_name": "Python 3 (ipykernel)",
   "language": "python",
   "name": "python3"
  },
  "language_info": {
   "codemirror_mode": {
    "name": "ipython",
    "version": 3
   },
   "file_extension": ".py",
   "mimetype": "text/x-python",
   "name": "python",
   "nbconvert_exporter": "python",
   "pygments_lexer": "ipython3",
   "version": "3.9.12"
  }
 },
 "nbformat": 4,
 "nbformat_minor": 4
}
